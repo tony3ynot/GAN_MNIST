{
  "nbformat": 4,
  "nbformat_minor": 0,
  "metadata": {
    "colab": {
      "provenance": [],
      "gpuType": "T4",
      "authorship_tag": "ABX9TyOCLgaNLBMx//VJlxOS1jKx",
      "include_colab_link": true
    },
    "kernelspec": {
      "name": "python3",
      "display_name": "Python 3"
    },
    "language_info": {
      "name": "python"
    },
    "accelerator": "GPU"
  },
  "cells": [
    {
      "cell_type": "markdown",
      "metadata": {
        "id": "view-in-github",
        "colab_type": "text"
      },
      "source": [
        "<a href=\"https://colab.research.google.com/github/tony3ynot/GAN_MNIST/blob/main/GAN_(MNIST_generation).ipynb\" target=\"_parent\"><img src=\"https://colab.research.google.com/assets/colab-badge.svg\" alt=\"Open In Colab\"/></a>"
      ]
    },
    {
      "cell_type": "code",
      "execution_count": 16,
      "metadata": {
        "id": "ykn2y0UZEiBa"
      },
      "outputs": [],
      "source": [
        "import torch\n",
        "import torch.nn as nn\n",
        "\n",
        "from torchvision import datasets\n",
        "import torchvision.transforms as transforms\n",
        "from torchvision.utils import save_image"
      ]
    },
    {
      "cell_type": "markdown",
      "source": [
        "# Model Architecture"
      ],
      "metadata": {
        "id": "X9hom98DIPWo"
      }
    },
    {
      "cell_type": "code",
      "source": [
        "## Generator Model\n",
        "latent_dim = 100\n",
        "\n",
        "class Generator(nn.Module):\n",
        "    def __init__(self):\n",
        "        super(Generator, self).__init__()\n",
        "\n",
        "        self.model = nn.Sequential(\n",
        "            nn.Linear(latent_dim, 256),\n",
        "            nn.BatchNorm1d(256),\n",
        "            nn.LeakyReLU(0.2, inplace=True),\n",
        "            nn.Linear(256, 512),\n",
        "            nn.BatchNorm1d(512),\n",
        "            nn.LeakyReLU(0.2, inplace=True),\n",
        "            nn.Linear(512, 1024),\n",
        "            nn.BatchNorm1d(1024),\n",
        "            nn.LeakyReLU(0.2, inplace=True),\n",
        "            nn.Linear(1024, 1*28*28),\n",
        "            nn.Tanh()\n",
        "        )\n",
        "\n",
        "    def forward(self, z):\n",
        "        img = self.model(z)\n",
        "        img = img.view(img.size(0), 1, 28, 28)\n",
        "        return img"
      ],
      "metadata": {
        "id": "VqmAX1X5INvY"
      },
      "execution_count": 2,
      "outputs": []
    },
    {
      "cell_type": "code",
      "source": [
        "## Discriminator Model\n",
        "class Discriminator(nn.Module):\n",
        "    def __init__(self):\n",
        "        super(Discriminator, self).__init__()\n",
        "\n",
        "        self.model = nn.Sequential(\n",
        "            nn.Linear(1*28*28, 1024),\n",
        "            nn.LeakyReLU(0.2, inplace=True),\n",
        "            nn.Dropout(0.3),\n",
        "            nn.Linear(1024, 512),\n",
        "            nn.LeakyReLU(0.2, inplace=True),\n",
        "            nn.Dropout(0.3),\n",
        "            nn.Linear(512, 256),\n",
        "            nn.LeakyReLU(0.2, inplace=True),\n",
        "            nn.Dropout(0.3),\n",
        "            nn.Linear(256, 1),\n",
        "            nn.Sigmoid()\n",
        "        )\n",
        "\n",
        "    def forward(self, img):\n",
        "        flattened = img.view(img.size(0), -1)\n",
        "        output = self.model(flattened)\n",
        "        return output"
      ],
      "metadata": {
        "id": "sv9P2qpDILlN"
      },
      "execution_count": 3,
      "outputs": []
    },
    {
      "cell_type": "markdown",
      "source": [
        "# Training Process"
      ],
      "metadata": {
        "id": "5HSbC0IzLIhb"
      }
    },
    {
      "cell_type": "code",
      "source": [
        "DEVICE = \"cuda\" if torch.cuda.is_available() else \"cpu\"\n",
        "\n",
        "transforms = transforms.Compose([\n",
        "    transforms.ToTensor(),\n",
        "    transforms.Normalize([0.5], [0.5])\n",
        "])\n",
        "\n",
        "train_dataset = datasets.MNIST(root=\"./dataset\", train=True, download=True, transform=transforms)\n",
        "dataloader = torch.utils.data.DataLoader(train_dataset, batch_size = 128, shuffle = True, num_workers=2)"
      ],
      "metadata": {
        "id": "1_0X7GLAMVxe"
      },
      "execution_count": 12,
      "outputs": []
    },
    {
      "cell_type": "code",
      "source": [
        "generator = Generator()\n",
        "discriminator = Discriminator()\n",
        "\n",
        "generator.to(DEVICE)\n",
        "discriminator.to(DEVICE)\n",
        "\n",
        "loss = nn.BCELoss()\n",
        "loss.to(DEVICE)\n",
        "\n",
        "lr = 0.0002\n",
        "\n",
        "optimizer_G = torch.optim.Adam(generator.parameters(), lr=lr)\n",
        "optimizer_D = torch.optim.Adam(discriminator.parameters(), lr=lr)"
      ],
      "metadata": {
        "id": "cSJ6qvoWM_8C",
        "colab": {
          "base_uri": "https://localhost:8080/"
        },
        "outputId": "3fbac1eb-aadd-4086-e092-9aab664eb8f1"
      },
      "execution_count": 13,
      "outputs": [
        {
          "output_type": "stream",
          "name": "stderr",
          "text": [
            "Traceback (most recent call last):\n",
            "  File \"/usr/lib/python3.11/multiprocessing/queues.py\", line 239, in _feed\n",
            "    reader_close()\n",
            "  File \"/usr/lib/python3.11/multiprocessing/connection.py\", line 178, in close\n",
            "    self._close()\n",
            "  File \"/usr/lib/python3.11/multiprocessing/connection.py\", line 377, in _close\n",
            "    _close(self._handle)\n",
            "OSError: [Errno 9] Bad file descriptor\n",
            "Traceback (most recent call last):\n",
            "  File \"/usr/lib/python3.11/multiprocessing/queues.py\", line 239, in _feed\n",
            "    reader_close()\n",
            "  File \"/usr/lib/python3.11/multiprocessing/connection.py\", line 178, in close\n",
            "    self._close()\n",
            "  File \"/usr/lib/python3.11/multiprocessing/connection.py\", line 377, in _close\n",
            "    _close(self._handle)\n",
            "OSError: [Errno 9] Bad file descriptor\n"
          ]
        }
      ]
    },
    {
      "cell_type": "code",
      "source": [
        "import time\n",
        "\n",
        "n_epochs = 100\n",
        "start_time = time.time()\n",
        "\n",
        "for epoch in range(n_epochs):\n",
        "    for i, (imgs, _) in enumerate(dataloader):\n",
        "        # labels\n",
        "        real = torch.ones(imgs.size(0), 1).to(DEVICE)\n",
        "        fake = torch.zeros(imgs.size(0), 1).to(DEVICE)\n",
        "\n",
        "        # real images\n",
        "        real_imgs = imgs.to(DEVICE)\n",
        "\n",
        "        # fake images (generated)\n",
        "        z = torch.normal(mean=0, std=1, size=(imgs.shape[0], latent_dim)).to(DEVICE)\n",
        "        generated_imgs = generator(z)\n",
        "\n",
        "        ## Train Discriminator\n",
        "        optimizer_D.zero_grad()\n",
        "\n",
        "        real_loss = loss(discriminator(real_imgs), real) # train on real images\n",
        "        fake_loss = loss(discriminator(generated_imgs), fake) # train on fake images\n",
        "        d_loss = (real_loss + fake_loss) / 2\n",
        "\n",
        "        d_loss.backward()\n",
        "        optimizer_D.step()\n",
        "\n",
        "        ## Train Generator\n",
        "        z = torch.normal(mean=0, std=1, size=(imgs.shape[0], latent_dim)).to(DEVICE)\n",
        "        generated_imgs = generator(z)\n",
        "\n",
        "        optimizer_G.zero_grad()\n",
        "\n",
        "        g_loss = loss(discriminator(generated_imgs), real)\n",
        "\n",
        "        g_loss.backward()\n",
        "        optimizer_G.step()\n",
        "\n",
        "\n",
        "    print(f\"[Epoch {epoch}/{n_epochs}] [D loss: {d_loss.item():.6f}] [G loss: {g_loss.item():.6f}] [Elapsed time: {time.time() - start_time:.2f}s]\")"
      ],
      "metadata": {
        "colab": {
          "base_uri": "https://localhost:8080/"
        },
        "id": "UHagVJkCfSBb",
        "outputId": "454e5b04-2df5-47f8-c309-b1617ced3b70"
      },
      "execution_count": 14,
      "outputs": [
        {
          "output_type": "stream",
          "name": "stdout",
          "text": [
            "[Epoch 0/100] [D loss: 0.126686] [G loss: 8.442410] [Elapsed time: 14.13s]\n",
            "[Epoch 1/100] [D loss: 0.019275] [G loss: 8.892918] [Elapsed time: 28.08s]\n",
            "[Epoch 2/100] [D loss: 0.047412] [G loss: 7.453089] [Elapsed time: 42.06s]\n",
            "[Epoch 3/100] [D loss: 0.059498] [G loss: 8.558253] [Elapsed time: 56.13s]\n",
            "[Epoch 4/100] [D loss: 0.061774] [G loss: 8.913227] [Elapsed time: 70.22s]\n",
            "[Epoch 5/100] [D loss: 0.151392] [G loss: 6.104812] [Elapsed time: 84.19s]\n",
            "[Epoch 6/100] [D loss: 0.106671] [G loss: 4.298234] [Elapsed time: 98.62s]\n",
            "[Epoch 7/100] [D loss: 0.204665] [G loss: 3.611202] [Elapsed time: 113.30s]\n",
            "[Epoch 8/100] [D loss: 0.133010] [G loss: 3.814440] [Elapsed time: 127.36s]\n",
            "[Epoch 9/100] [D loss: 0.170364] [G loss: 3.234881] [Elapsed time: 141.78s]\n",
            "[Epoch 10/100] [D loss: 0.216267] [G loss: 2.985802] [Elapsed time: 156.44s]\n",
            "[Epoch 11/100] [D loss: 0.158745] [G loss: 3.645542] [Elapsed time: 170.63s]\n",
            "[Epoch 12/100] [D loss: 0.377019] [G loss: 3.223082] [Elapsed time: 184.72s]\n",
            "[Epoch 13/100] [D loss: 0.220368] [G loss: 3.867491] [Elapsed time: 198.69s]\n",
            "[Epoch 14/100] [D loss: 0.244036] [G loss: 2.269524] [Elapsed time: 212.87s]\n",
            "[Epoch 15/100] [D loss: 0.256803] [G loss: 3.654595] [Elapsed time: 227.05s]\n",
            "[Epoch 16/100] [D loss: 0.273942] [G loss: 3.312897] [Elapsed time: 241.36s]\n",
            "[Epoch 17/100] [D loss: 0.348355] [G loss: 3.121404] [Elapsed time: 255.62s]\n",
            "[Epoch 18/100] [D loss: 0.266589] [G loss: 2.422810] [Elapsed time: 269.75s]\n",
            "[Epoch 19/100] [D loss: 0.357919] [G loss: 1.843885] [Elapsed time: 283.83s]\n",
            "[Epoch 20/100] [D loss: 0.305116] [G loss: 2.035265] [Elapsed time: 298.44s]\n",
            "[Epoch 21/100] [D loss: 0.382635] [G loss: 2.056563] [Elapsed time: 313.23s]\n",
            "[Epoch 22/100] [D loss: 0.384127] [G loss: 2.489334] [Elapsed time: 327.35s]\n",
            "[Epoch 23/100] [D loss: 0.319764] [G loss: 1.981324] [Elapsed time: 341.31s]\n",
            "[Epoch 24/100] [D loss: 0.305993] [G loss: 2.889829] [Elapsed time: 355.26s]\n",
            "[Epoch 25/100] [D loss: 0.444991] [G loss: 1.584723] [Elapsed time: 369.90s]\n",
            "[Epoch 26/100] [D loss: 0.481155] [G loss: 1.560094] [Elapsed time: 384.23s]\n",
            "[Epoch 27/100] [D loss: 0.381258] [G loss: 1.954845] [Elapsed time: 398.13s]\n",
            "[Epoch 28/100] [D loss: 0.408908] [G loss: 1.412245] [Elapsed time: 412.11s]\n",
            "[Epoch 29/100] [D loss: 0.329907] [G loss: 2.238738] [Elapsed time: 425.92s]\n",
            "[Epoch 30/100] [D loss: 0.409949] [G loss: 1.908161] [Elapsed time: 439.73s]\n",
            "[Epoch 31/100] [D loss: 0.492050] [G loss: 1.660871] [Elapsed time: 453.79s]\n",
            "[Epoch 32/100] [D loss: 0.415026] [G loss: 1.698342] [Elapsed time: 468.29s]\n",
            "[Epoch 33/100] [D loss: 0.487979] [G loss: 1.490318] [Elapsed time: 482.89s]\n",
            "[Epoch 34/100] [D loss: 0.496886] [G loss: 1.694076] [Elapsed time: 497.00s]\n",
            "[Epoch 35/100] [D loss: 0.516057] [G loss: 0.968061] [Elapsed time: 510.96s]\n",
            "[Epoch 36/100] [D loss: 0.516166] [G loss: 1.598587] [Elapsed time: 525.17s]\n",
            "[Epoch 37/100] [D loss: 0.469164] [G loss: 1.751684] [Elapsed time: 539.07s]\n",
            "[Epoch 38/100] [D loss: 0.469027] [G loss: 1.712945] [Elapsed time: 553.23s]\n",
            "[Epoch 39/100] [D loss: 0.498246] [G loss: 1.346178] [Elapsed time: 567.39s]\n",
            "[Epoch 40/100] [D loss: 0.453937] [G loss: 1.856680] [Elapsed time: 581.40s]\n",
            "[Epoch 41/100] [D loss: 0.415904] [G loss: 1.792341] [Elapsed time: 595.50s]\n",
            "[Epoch 42/100] [D loss: 0.512936] [G loss: 1.429371] [Elapsed time: 609.55s]\n",
            "[Epoch 43/100] [D loss: 0.507383] [G loss: 1.434902] [Elapsed time: 623.99s]\n",
            "[Epoch 44/100] [D loss: 0.490795] [G loss: 1.288622] [Elapsed time: 639.07s]\n",
            "[Epoch 45/100] [D loss: 0.465932] [G loss: 1.738634] [Elapsed time: 653.98s]\n",
            "[Epoch 46/100] [D loss: 0.584616] [G loss: 1.162534] [Elapsed time: 668.04s]\n",
            "[Epoch 47/100] [D loss: 0.575368] [G loss: 1.123698] [Elapsed time: 682.21s]\n",
            "[Epoch 48/100] [D loss: 0.484499] [G loss: 1.530292] [Elapsed time: 696.16s]\n",
            "[Epoch 49/100] [D loss: 0.567023] [G loss: 1.451258] [Elapsed time: 710.34s]\n",
            "[Epoch 50/100] [D loss: 0.580433] [G loss: 1.289345] [Elapsed time: 724.53s]\n",
            "[Epoch 51/100] [D loss: 0.537882] [G loss: 1.108363] [Elapsed time: 738.63s]\n",
            "[Epoch 52/100] [D loss: 0.590757] [G loss: 1.053946] [Elapsed time: 752.57s]\n",
            "[Epoch 53/100] [D loss: 0.565061] [G loss: 1.026877] [Elapsed time: 766.72s]\n",
            "[Epoch 54/100] [D loss: 0.590945] [G loss: 0.879333] [Elapsed time: 781.44s]\n",
            "[Epoch 55/100] [D loss: 0.554534] [G loss: 0.983341] [Elapsed time: 796.28s]\n",
            "[Epoch 56/100] [D loss: 0.514638] [G loss: 1.309500] [Elapsed time: 810.88s]\n",
            "[Epoch 57/100] [D loss: 0.543428] [G loss: 1.382525] [Elapsed time: 825.68s]\n",
            "[Epoch 58/100] [D loss: 0.458771] [G loss: 1.660501] [Elapsed time: 840.18s]\n",
            "[Epoch 59/100] [D loss: 0.567662] [G loss: 1.112832] [Elapsed time: 854.36s]\n",
            "[Epoch 60/100] [D loss: 0.501119] [G loss: 1.402897] [Elapsed time: 868.48s]\n",
            "[Epoch 61/100] [D loss: 0.584982] [G loss: 0.920811] [Elapsed time: 882.66s]\n",
            "[Epoch 62/100] [D loss: 0.573517] [G loss: 1.042643] [Elapsed time: 896.69s]\n",
            "[Epoch 63/100] [D loss: 0.531587] [G loss: 1.411255] [Elapsed time: 911.73s]\n",
            "[Epoch 64/100] [D loss: 0.522035] [G loss: 1.032619] [Elapsed time: 926.20s]\n",
            "[Epoch 65/100] [D loss: 0.533437] [G loss: 1.194637] [Elapsed time: 940.64s]\n",
            "[Epoch 66/100] [D loss: 0.595378] [G loss: 1.193331] [Elapsed time: 954.80s]\n",
            "[Epoch 67/100] [D loss: 0.566480] [G loss: 1.053125] [Elapsed time: 969.08s]\n",
            "[Epoch 68/100] [D loss: 0.524776] [G loss: 1.382373] [Elapsed time: 983.51s]\n",
            "[Epoch 69/100] [D loss: 0.619713] [G loss: 1.284595] [Elapsed time: 997.59s]\n",
            "[Epoch 70/100] [D loss: 0.630016] [G loss: 0.762617] [Elapsed time: 1011.66s]\n",
            "[Epoch 71/100] [D loss: 0.648125] [G loss: 1.084787] [Elapsed time: 1025.73s]\n",
            "[Epoch 72/100] [D loss: 0.514112] [G loss: 1.234774] [Elapsed time: 1039.88s]\n",
            "[Epoch 73/100] [D loss: 0.598627] [G loss: 0.997951] [Elapsed time: 1053.94s]\n",
            "[Epoch 74/100] [D loss: 0.621982] [G loss: 0.975886] [Elapsed time: 1067.93s]\n",
            "[Epoch 75/100] [D loss: 0.642230] [G loss: 0.797603] [Elapsed time: 1082.41s]\n",
            "[Epoch 76/100] [D loss: 0.634372] [G loss: 0.798237] [Elapsed time: 1096.95s]\n",
            "[Epoch 77/100] [D loss: 0.581486] [G loss: 1.005823] [Elapsed time: 1111.37s]\n",
            "[Epoch 78/100] [D loss: 0.552602] [G loss: 0.968551] [Elapsed time: 1125.67s]\n",
            "[Epoch 79/100] [D loss: 0.601718] [G loss: 1.135262] [Elapsed time: 1139.67s]\n",
            "[Epoch 80/100] [D loss: 0.584229] [G loss: 1.012553] [Elapsed time: 1153.70s]\n",
            "[Epoch 81/100] [D loss: 0.581332] [G loss: 0.936622] [Elapsed time: 1167.51s]\n",
            "[Epoch 82/100] [D loss: 0.527276] [G loss: 1.415893] [Elapsed time: 1182.64s]\n",
            "[Epoch 83/100] [D loss: 0.617718] [G loss: 1.018002] [Elapsed time: 1196.59s]\n",
            "[Epoch 84/100] [D loss: 0.591521] [G loss: 0.979406] [Elapsed time: 1210.67s]\n",
            "[Epoch 85/100] [D loss: 0.592129] [G loss: 1.031693] [Elapsed time: 1224.58s]\n",
            "[Epoch 86/100] [D loss: 0.635269] [G loss: 0.860375] [Elapsed time: 1238.43s]\n",
            "[Epoch 87/100] [D loss: 0.643641] [G loss: 0.969915] [Elapsed time: 1252.34s]\n",
            "[Epoch 88/100] [D loss: 0.623948] [G loss: 0.948325] [Elapsed time: 1266.46s]\n",
            "[Epoch 89/100] [D loss: 0.609921] [G loss: 0.898336] [Elapsed time: 1280.80s]\n",
            "[Epoch 90/100] [D loss: 0.628716] [G loss: 1.044439] [Elapsed time: 1295.06s]\n",
            "[Epoch 91/100] [D loss: 0.575207] [G loss: 0.832504] [Elapsed time: 1308.96s]\n",
            "[Epoch 92/100] [D loss: 0.604788] [G loss: 1.015972] [Elapsed time: 1322.95s]\n",
            "[Epoch 93/100] [D loss: 0.580347] [G loss: 1.197742] [Elapsed time: 1337.02s]\n",
            "[Epoch 94/100] [D loss: 0.562345] [G loss: 0.976744] [Elapsed time: 1351.52s]\n",
            "[Epoch 95/100] [D loss: 0.650202] [G loss: 0.941593] [Elapsed time: 1365.82s]\n",
            "[Epoch 96/100] [D loss: 0.555688] [G loss: 0.996104] [Elapsed time: 1380.05s]\n",
            "[Epoch 97/100] [D loss: 0.566056] [G loss: 0.904260] [Elapsed time: 1394.03s]\n",
            "[Epoch 98/100] [D loss: 0.602575] [G loss: 0.929011] [Elapsed time: 1408.12s]\n",
            "[Epoch 99/100] [D loss: 0.617035] [G loss: 0.850492] [Elapsed time: 1422.43s]\n"
          ]
        }
      ]
    },
    {
      "cell_type": "markdown",
      "source": [
        "# Generate MNIST Data"
      ],
      "metadata": {
        "id": "dGnFKj0M6n9a"
      }
    },
    {
      "cell_type": "code",
      "source": [
        "from PIL import Image as PILImage\n",
        "from IPython.display import display\n",
        "\n",
        "z = torch.normal(mean=0, std=1, size=(latent_dim,)).to(DEVICE)\n",
        "generator.to(DEVICE)\n",
        "\n",
        "generator.eval()\n",
        "with torch.no_grad():\n",
        "    ten = generator(z.unsqueeze(0))\n",
        "\n",
        "to_pil = transforms.ToPILImage()\n",
        "image = to_pil(ten.squeeze(0).cpu())\n",
        "\n",
        "image = image.resize((256, 256), PILImage.BILINEAR)\n",
        "display(image)"
      ],
      "metadata": {
        "colab": {
          "base_uri": "https://localhost:8080/",
          "height": 273
        },
        "id": "5_JLJA5jl_Ys",
        "outputId": "fe185cfb-1fe1-4faf-a6e7-d0dd4e3c47cf"
      },
      "execution_count": 24,
      "outputs": [
        {
          "output_type": "display_data",
          "data": {
            "text/plain": [
              "<PIL.Image.Image image mode=L size=256x256>"
            ],
            "image/png": "[encoded data removed]",
            "image/jpeg": "[encoded data removed]"
          },
          "metadata": {}
        }
      ]
    }
  ]
}